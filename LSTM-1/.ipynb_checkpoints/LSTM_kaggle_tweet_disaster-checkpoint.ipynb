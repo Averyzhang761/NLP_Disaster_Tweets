{
 "cells": [
  {
   "cell_type": "markdown",
   "metadata": {},
   "source": [
    "# Check DataSet"
   ]
  },
  {
   "cell_type": "code",
   "execution_count": 81,
   "metadata": {},
   "outputs": [],
   "source": [
    "import pandas as pd\n",
    "import numpy as np\n",
    "import csv\n",
    "from nltk.corpus import stopwords\n",
    "from sklearn.model_selection import train_test_split\n",
    "from tensorflow.keras.preprocessing.sequence import pad_sequences\n",
    "from tensorflow.keras.preprocessing.text import Tokenizer\n",
    "from tensorflow.keras.preprocessing.text import text_to_word_sequence\n",
    "import re"
   ]
  },
  {
   "cell_type": "code",
   "execution_count": 82,
   "metadata": {},
   "outputs": [],
   "source": [
    "data_train = pd.read_csv(\"train.csv\")\n",
    "data_test = pd.read_csv(\"test.csv\")"
   ]
  },
  {
   "cell_type": "code",
   "execution_count": 83,
   "metadata": {},
   "outputs": [
    {
     "data": {
      "text/html": [
       "<div>\n",
       "<style scoped>\n",
       "    .dataframe tbody tr th:only-of-type {\n",
       "        vertical-align: middle;\n",
       "    }\n",
       "\n",
       "    .dataframe tbody tr th {\n",
       "        vertical-align: top;\n",
       "    }\n",
       "\n",
       "    .dataframe thead th {\n",
       "        text-align: right;\n",
       "    }\n",
       "</style>\n",
       "<table border=\"1\" class=\"dataframe\">\n",
       "  <thead>\n",
       "    <tr style=\"text-align: right;\">\n",
       "      <th></th>\n",
       "      <th>id</th>\n",
       "      <th>keyword</th>\n",
       "      <th>location</th>\n",
       "      <th>text</th>\n",
       "      <th>target</th>\n",
       "    </tr>\n",
       "  </thead>\n",
       "  <tbody>\n",
       "    <tr>\n",
       "      <th>0</th>\n",
       "      <td>1</td>\n",
       "      <td>NaN</td>\n",
       "      <td>NaN</td>\n",
       "      <td>Our Deeds are the Reason of this #earthquake M...</td>\n",
       "      <td>1</td>\n",
       "    </tr>\n",
       "    <tr>\n",
       "      <th>1</th>\n",
       "      <td>4</td>\n",
       "      <td>NaN</td>\n",
       "      <td>NaN</td>\n",
       "      <td>Forest fire near La Ronge Sask. Canada</td>\n",
       "      <td>1</td>\n",
       "    </tr>\n",
       "    <tr>\n",
       "      <th>2</th>\n",
       "      <td>5</td>\n",
       "      <td>NaN</td>\n",
       "      <td>NaN</td>\n",
       "      <td>All residents asked to 'shelter in place' are ...</td>\n",
       "      <td>1</td>\n",
       "    </tr>\n",
       "    <tr>\n",
       "      <th>3</th>\n",
       "      <td>6</td>\n",
       "      <td>NaN</td>\n",
       "      <td>NaN</td>\n",
       "      <td>13,000 people receive #wildfires evacuation or...</td>\n",
       "      <td>1</td>\n",
       "    </tr>\n",
       "    <tr>\n",
       "      <th>4</th>\n",
       "      <td>7</td>\n",
       "      <td>NaN</td>\n",
       "      <td>NaN</td>\n",
       "      <td>Just got sent this photo from Ruby #Alaska as ...</td>\n",
       "      <td>1</td>\n",
       "    </tr>\n",
       "    <tr>\n",
       "      <th>...</th>\n",
       "      <td>...</td>\n",
       "      <td>...</td>\n",
       "      <td>...</td>\n",
       "      <td>...</td>\n",
       "      <td>...</td>\n",
       "    </tr>\n",
       "    <tr>\n",
       "      <th>7608</th>\n",
       "      <td>10869</td>\n",
       "      <td>NaN</td>\n",
       "      <td>NaN</td>\n",
       "      <td>Two giant cranes holding a bridge collapse int...</td>\n",
       "      <td>1</td>\n",
       "    </tr>\n",
       "    <tr>\n",
       "      <th>7609</th>\n",
       "      <td>10870</td>\n",
       "      <td>NaN</td>\n",
       "      <td>NaN</td>\n",
       "      <td>@aria_ahrary @TheTawniest The out of control w...</td>\n",
       "      <td>1</td>\n",
       "    </tr>\n",
       "    <tr>\n",
       "      <th>7610</th>\n",
       "      <td>10871</td>\n",
       "      <td>NaN</td>\n",
       "      <td>NaN</td>\n",
       "      <td>M1.94 [01:04 UTC]?5km S of Volcano Hawaii. htt...</td>\n",
       "      <td>1</td>\n",
       "    </tr>\n",
       "    <tr>\n",
       "      <th>7611</th>\n",
       "      <td>10872</td>\n",
       "      <td>NaN</td>\n",
       "      <td>NaN</td>\n",
       "      <td>Police investigating after an e-bike collided ...</td>\n",
       "      <td>1</td>\n",
       "    </tr>\n",
       "    <tr>\n",
       "      <th>7612</th>\n",
       "      <td>10873</td>\n",
       "      <td>NaN</td>\n",
       "      <td>NaN</td>\n",
       "      <td>The Latest: More Homes Razed by Northern Calif...</td>\n",
       "      <td>1</td>\n",
       "    </tr>\n",
       "  </tbody>\n",
       "</table>\n",
       "<p>7613 rows × 5 columns</p>\n",
       "</div>"
      ],
      "text/plain": [
       "         id keyword location  \\\n",
       "0         1     NaN      NaN   \n",
       "1         4     NaN      NaN   \n",
       "2         5     NaN      NaN   \n",
       "3         6     NaN      NaN   \n",
       "4         7     NaN      NaN   \n",
       "...     ...     ...      ...   \n",
       "7608  10869     NaN      NaN   \n",
       "7609  10870     NaN      NaN   \n",
       "7610  10871     NaN      NaN   \n",
       "7611  10872     NaN      NaN   \n",
       "7612  10873     NaN      NaN   \n",
       "\n",
       "                                                   text  target  \n",
       "0     Our Deeds are the Reason of this #earthquake M...       1  \n",
       "1                Forest fire near La Ronge Sask. Canada       1  \n",
       "2     All residents asked to 'shelter in place' are ...       1  \n",
       "3     13,000 people receive #wildfires evacuation or...       1  \n",
       "4     Just got sent this photo from Ruby #Alaska as ...       1  \n",
       "...                                                 ...     ...  \n",
       "7608  Two giant cranes holding a bridge collapse int...       1  \n",
       "7609  @aria_ahrary @TheTawniest The out of control w...       1  \n",
       "7610  M1.94 [01:04 UTC]?5km S of Volcano Hawaii. htt...       1  \n",
       "7611  Police investigating after an e-bike collided ...       1  \n",
       "7612  The Latest: More Homes Razed by Northern Calif...       1  \n",
       "\n",
       "[7613 rows x 5 columns]"
      ]
     },
     "execution_count": 83,
     "metadata": {},
     "output_type": "execute_result"
    }
   ],
   "source": [
    "data_train"
   ]
  },
  {
   "cell_type": "markdown",
   "metadata": {},
   "source": [
    "# import textaugment library.\n",
    "TextAugment is a Python 3 library for augmenting text for natural language processing applications. TextAugment stands on the giant shoulders of NLTK, Gensim, and TextBlob and plays nicely with them."
   ]
  },
  {
   "cell_type": "markdown",
   "metadata": {},
   "source": [
    "# Settings"
   ]
  },
  {
   "cell_type": "code",
   "execution_count": 84,
   "metadata": {},
   "outputs": [],
   "source": [
    "#control the number of words that can be passes to model\n",
    "max_sequence_length = 40\n",
    "#limit dictionary of words to 3000\n",
    "max_words = 4000\n",
    "#define the size of output vector from this layer for each word\n",
    "embedding_size = 40\n",
    "#once trained, the weights of LSTM neural network will be saved in a h5 file.\n",
    "#so that you can reuse this model later\n",
    "model_file = 'model.h5'\n",
    "#store the word  dictionary and in the process of converting text to strings and backwoards\n",
    "tokenizer_file = 'tokenizer.pickle'\n",
    "#binary classification\n",
    "num_classes = 2"
   ]
  },
  {
   "cell_type": "markdown",
   "metadata": {},
   "source": [
    "# Text cleaning"
   ]
  },
  {
   "cell_type": "code",
   "execution_count": 85,
   "metadata": {},
   "outputs": [],
   "source": [
    "def clean_str(string):\n",
    "    #replace and simplify a lot of signals\n",
    "    string = re.sub(r'http\\S+', 'link', string) # replace links by generic text link\n",
    "    string = re.sub(r\"[^A-Za-z0-9(),!?\\'\\`]\", \" \", string)\n",
    "    string = re.sub(r\"\\'s\", \" \\'s\", string)\n",
    "    string = re.sub(r\"\\'ve\", \" \\'ve\", string)\n",
    "    string = re.sub(r\"n\\'t\", \" n\\'t\", string)\n",
    "    string = re.sub(r\"\\'re\", \" \\'re\", string)\n",
    "    string = re.sub(r\"\\'d\", \" \\'d\", string)\n",
    "    string = re.sub(r\"\\'ll\", \" \\'ll\", string)\n",
    "    string = re.sub(r\",\", \" , \", string)\n",
    "    string = re.sub(r\"!\", \" ! \", string)\n",
    "    string = re.sub(r\"\\(\", \" \\( \", string)\n",
    "    string = re.sub(r\"\\)\", \" \\) \", string)\n",
    "    string = re.sub(r\"\\?\", \" \\? \", string)\n",
    "    string = re.sub(r\"\\s{2,}\", \" \", string)\n",
    "\n",
    "    cleanr = re.compile('<.*?>')\n",
    "\n",
    "    string = re.sub(r'\\d+', '', string)\n",
    "    string = re.sub(cleanr, '', string)\n",
    "    string = re.sub(\"'\", '', string)\n",
    "    string = re.sub(r'\\W+', ' ', string)\n",
    "    string = string.replace('_', '')\n",
    "    #turn to lower case\n",
    "    return string.strip().lower()"
   ]
  },
  {
   "cell_type": "code",
   "execution_count": 86,
   "metadata": {},
   "outputs": [
    {
     "data": {
      "text/plain": [
       "'horrible accident man died in wings of airplane link'"
      ]
     },
     "execution_count": 86,
     "metadata": {},
     "output_type": "execute_result"
    }
   ],
   "source": [
    "cleaned_str = clean_str('Horrible Accident | Man Died In Wings of AirplaneåÊ(29-07-2015) http://t.co/wq3wJsgPHL')\n",
    "cleaned_str"
   ]
  },
  {
   "cell_type": "markdown",
   "metadata": {},
   "source": [
    "# Remove stopwords"
   ]
  },
  {
   "cell_type": "code",
   "execution_count": 87,
   "metadata": {},
   "outputs": [],
   "source": [
    "stop_words = set(stopwords.words('english'))\n",
    "def remove_stopwords(word_list):\n",
    "    no_stop_words = [w for w in word_list if not w in stop_words]\n",
    "    return no_stop_words\n"
   ]
  },
  {
   "cell_type": "code",
   "execution_count": 88,
   "metadata": {},
   "outputs": [
    {
     "data": {
      "text/plain": [
       "['horrible', 'accident', 'man', 'died', 'wings', 'airplane', 'link']"
      ]
     },
     "execution_count": 88,
     "metadata": {},
     "output_type": "execute_result"
    }
   ],
   "source": [
    "remove_stopwords(cleaned_str.split(\" \"))"
   ]
  },
  {
   "cell_type": "markdown",
   "metadata": {},
   "source": [
    "# Data augmentation"
   ]
  },
  {
   "cell_type": "code",
   "execution_count": 89,
   "metadata": {},
   "outputs": [],
   "source": [
    "#import and create an EDA example\n",
    "from textaugment import EDA\n",
    "t = EDA()\n"
   ]
  },
  {
   "cell_type": "markdown",
   "metadata": {},
   "source": [
    "Random Deletion (RD): Randomly remove each word in the sentence with probability p."
   ]
  },
  {
   "cell_type": "code",
   "execution_count": 90,
   "metadata": {},
   "outputs": [
    {
     "name": "stdout",
     "output_type": "stream",
     "text": [
      "pastor was not in the scene of who was the of the range rover?\n",
      "The not in the scene of accident... who was the owner of the range\n",
      "The pastor was in the of the accident... who was the owner of the range rover?\n"
     ]
    }
   ],
   "source": [
    "for i in range(3):\n",
    "    print(t.random_deletion('The pastor was not in the scene of the accident... who was the owner of the range rover?', p=0.2))"
   ]
  },
  {
   "cell_type": "markdown",
   "metadata": {},
   "source": [
    "Random Swap (RS): Randomly choose two words in the sentence and swap their positions. Do this n times.¶"
   ]
  },
  {
   "cell_type": "code",
   "execution_count": 91,
   "metadata": {},
   "outputs": [
    {
     "name": "stdout",
     "output_type": "stream",
     "text": [
      "The pastor was not in the scene of the accident... who was range owner of the the rover?\n",
      "The the was not in the scene of the accident... who was the owner of pastor range rover?\n",
      "The pastor was not in the scene the the accident... who was of owner of the range rover?\n"
     ]
    }
   ],
   "source": [
    "for i in range(3):\n",
    "    print(t.random_swap('The pastor was not in the scene of the accident... who was the owner of the range rover?'))"
   ]
  },
  {
   "cell_type": "markdown",
   "metadata": {},
   "source": [
    "Synonym Replacement (SR): Randomly choose n words from the sentence that are not stop words. Replace each of these words with one of its synonyms chosen at random.¶"
   ]
  },
  {
   "cell_type": "code",
   "execution_count": 92,
   "metadata": {},
   "outputs": [
    {
     "name": "stdout",
     "output_type": "stream",
     "text": [
      "The pastor was not in the scenery of the accident... who was the owner of the range rover?\n",
      "The pastor was not in the vista of the accident... who was the owner of the range rover?\n",
      "The pastor was not in the fit of the accident... who was the owner of the range rover?\n"
     ]
    }
   ],
   "source": [
    "for i in range(3):\n",
    "    print(t.synonym_replacement('The pastor was not in the scene of the accident... who was the owner of the range rover?'))"
   ]
  },
  {
   "cell_type": "markdown",
   "metadata": {},
   "source": [
    "Random Insertion (RI): Find a random synonym of a random word in the sentence that is not a stop word. Insert that synonym into a random position in the sentence. Do this n times."
   ]
  },
  {
   "cell_type": "code",
   "execution_count": 93,
   "metadata": {},
   "outputs": [
    {
     "name": "stdout",
     "output_type": "stream",
     "text": [
      "The pastor was not in the scene of the accident... who was proprietor the owner of the range rover?\n",
      "The pastor was not in grasp the scene of the accident... who was the owner of the range rover?\n",
      "The pastor was not in the scene of the accident... who was the owner of the minister of religion range rover?\n"
     ]
    }
   ],
   "source": [
    "for i in range(3):\n",
    "    print(t.random_insertion('The pastor was not in the scene of the accident... who was the owner of the range rover?'))"
   ]
  },
  {
   "cell_type": "markdown",
   "metadata": {},
   "source": [
    "# Load dataset"
   ]
  },
  {
   "cell_type": "code",
   "execution_count": 94,
   "metadata": {},
   "outputs": [],
   "source": [
    "data_train = data_train[['text', 'target']]"
   ]
  },
  {
   "cell_type": "code",
   "execution_count": 95,
   "metadata": {},
   "outputs": [
    {
     "data": {
      "text/html": [
       "<div>\n",
       "<style scoped>\n",
       "    .dataframe tbody tr th:only-of-type {\n",
       "        vertical-align: middle;\n",
       "    }\n",
       "\n",
       "    .dataframe tbody tr th {\n",
       "        vertical-align: top;\n",
       "    }\n",
       "\n",
       "    .dataframe thead th {\n",
       "        text-align: right;\n",
       "    }\n",
       "</style>\n",
       "<table border=\"1\" class=\"dataframe\">\n",
       "  <thead>\n",
       "    <tr style=\"text-align: right;\">\n",
       "      <th></th>\n",
       "      <th>text</th>\n",
       "      <th>target</th>\n",
       "    </tr>\n",
       "  </thead>\n",
       "  <tbody>\n",
       "    <tr>\n",
       "      <th>0</th>\n",
       "      <td>Our Deeds are the Reason of this #earthquake M...</td>\n",
       "      <td>1</td>\n",
       "    </tr>\n",
       "    <tr>\n",
       "      <th>1</th>\n",
       "      <td>Forest fire near La Ronge Sask. Canada</td>\n",
       "      <td>1</td>\n",
       "    </tr>\n",
       "    <tr>\n",
       "      <th>2</th>\n",
       "      <td>All residents asked to 'shelter in place' are ...</td>\n",
       "      <td>1</td>\n",
       "    </tr>\n",
       "    <tr>\n",
       "      <th>3</th>\n",
       "      <td>13,000 people receive #wildfires evacuation or...</td>\n",
       "      <td>1</td>\n",
       "    </tr>\n",
       "    <tr>\n",
       "      <th>4</th>\n",
       "      <td>Just got sent this photo from Ruby #Alaska as ...</td>\n",
       "      <td>1</td>\n",
       "    </tr>\n",
       "    <tr>\n",
       "      <th>...</th>\n",
       "      <td>...</td>\n",
       "      <td>...</td>\n",
       "    </tr>\n",
       "    <tr>\n",
       "      <th>7608</th>\n",
       "      <td>Two giant cranes holding a bridge collapse int...</td>\n",
       "      <td>1</td>\n",
       "    </tr>\n",
       "    <tr>\n",
       "      <th>7609</th>\n",
       "      <td>@aria_ahrary @TheTawniest The out of control w...</td>\n",
       "      <td>1</td>\n",
       "    </tr>\n",
       "    <tr>\n",
       "      <th>7610</th>\n",
       "      <td>M1.94 [01:04 UTC]?5km S of Volcano Hawaii. htt...</td>\n",
       "      <td>1</td>\n",
       "    </tr>\n",
       "    <tr>\n",
       "      <th>7611</th>\n",
       "      <td>Police investigating after an e-bike collided ...</td>\n",
       "      <td>1</td>\n",
       "    </tr>\n",
       "    <tr>\n",
       "      <th>7612</th>\n",
       "      <td>The Latest: More Homes Razed by Northern Calif...</td>\n",
       "      <td>1</td>\n",
       "    </tr>\n",
       "  </tbody>\n",
       "</table>\n",
       "<p>7613 rows × 2 columns</p>\n",
       "</div>"
      ],
      "text/plain": [
       "                                                   text  target\n",
       "0     Our Deeds are the Reason of this #earthquake M...       1\n",
       "1                Forest fire near La Ronge Sask. Canada       1\n",
       "2     All residents asked to 'shelter in place' are ...       1\n",
       "3     13,000 people receive #wildfires evacuation or...       1\n",
       "4     Just got sent this photo from Ruby #Alaska as ...       1\n",
       "...                                                 ...     ...\n",
       "7608  Two giant cranes holding a bridge collapse int...       1\n",
       "7609  @aria_ahrary @TheTawniest The out of control w...       1\n",
       "7610  M1.94 [01:04 UTC]?5km S of Volcano Hawaii. htt...       1\n",
       "7611  Police investigating after an e-bike collided ...       1\n",
       "7612  The Latest: More Homes Razed by Northern Calif...       1\n",
       "\n",
       "[7613 rows x 2 columns]"
      ]
     },
     "execution_count": 95,
     "metadata": {},
     "output_type": "execute_result"
    }
   ],
   "source": [
    "data_train"
   ]
  },
  {
   "cell_type": "code",
   "execution_count": 96,
   "metadata": {},
   "outputs": [
    {
     "data": {
      "text/plain": [
       "Text(0.5, 1.0, 'Number of disaster tweets')"
      ]
     },
     "execution_count": 96,
     "metadata": {},
     "output_type": "execute_result"
    },
    {
     "data": {
      "image/png": "[encoded data removed]",
      "text/plain": [
       "<Figure size 432x288 with 1 Axes>"
      ]
     },
     "metadata": {
      "needs_background": "light"
     },
     "output_type": "display_data"
    }
   ],
   "source": [
    "import matplotlib.pyplot as plt\n",
    "import seaborn as sns\n",
    "\n",
    "sns.countplot(data_train.target)\n",
    "plt.xlabel('Target')\n",
    "plt.title('Number of disaster tweets')"
   ]
  },
  {
   "cell_type": "code",
   "execution_count": 97,
   "metadata": {},
   "outputs": [
    {
     "name": "stderr",
     "output_type": "stream",
     "text": [
      "/opt/anaconda3/lib/python3.7/site-packages/ipykernel_launcher.py:1: SettingWithCopyWarning: \n",
      "A value is trying to be set on a copy of a slice from a DataFrame.\n",
      "Try using .loc[row_indexer,col_indexer] = value instead\n",
      "\n",
      "See the caveats in the documentation: https://pandas.pydata.org/pandas-docs/stable/user_guide/indexing.html#returning-a-view-versus-a-copy\n",
      "  \"\"\"Entry point for launching an IPython kernel.\n"
     ]
    },
    {
     "name": "stdout",
     "output_type": "stream",
     "text": [
      "7613 bags\n"
     ]
    }
   ],
   "source": [
    "data_train['text'] = data_train['text'].apply(lambda x: clean_str(x))\n",
    "\n",
    "sequences = []\n",
    "targets = []\n",
    "\n",
    "for index, row in data_train.iterrows():\n",
    "    seqs = []\n",
    "    text = row['text']\n",
    "\n",
    "    # if empty text, skipping to next row data\n",
    "    if not text:\n",
    "        continue\n",
    "\n",
    "    seqs.append(text)\n",
    "    \n",
    "    # apply data augmentation\n",
    "    \n",
    "    # random deletion\n",
    "    seq2 = t.random_deletion(text, p=0.2)\n",
    "    if type(seq2) == type([]):\n",
    "        seqs.append(seq2[0])\n",
    "    else:\n",
    "        seqs.append(seq2)\n",
    "        # random swap\n",
    "    if len(text) > 1:\n",
    "        seqs.append(t.random_swap(text))\n",
    "\n",
    "    # synonym replacement and random insertion\n",
    "    for i in range(2):\n",
    "        seqs.append(t.synonym_replacement(text))    \n",
    "        try:\n",
    "            seqs.append(t.random_insertion(text))\n",
    "        except:\n",
    "            pass\n",
    "    \"\"\"\n",
    "    All sequence variations created in the data augmentation process are grouped in bags. \n",
    "    This is important to avoid that in the process of splitting the data, variations of \n",
    "    the same sequence are allocated in different sets. For example, an X variation of \n",
    "    sequence A falls in the training set and an Y variation of sequence A falls in the test set.\n",
    "    \"\"\"\n",
    "    sequence_group = []\n",
    "    target_group = []\n",
    "\n",
    "    target = row['target']\n",
    "\n",
    "    for sequence in seqs: \n",
    "        word_list = text_to_word_sequence(sequence)\n",
    "        \n",
    "        # remove stop words\n",
    "        no_stop_words = remove_stopwords(word_list)\n",
    "        \n",
    "        if not no_stop_words:\n",
    "            continue\n",
    "\n",
    "        sequence_group.append(\" \".join(no_stop_words))\n",
    "        target_group.append(target)\n",
    "\n",
    "    sequences.append(sequence_group)\n",
    "    targets.append(target_group)\n",
    "\n",
    "\n",
    "X = sequences\n",
    "Y = np.array(targets)\n",
    "\n",
    "print(\"{bags_count} bags\".format(bags_count=len(X)))\n"
   ]
  },
  {
   "cell_type": "markdown",
   "metadata": {},
   "source": [
    "# Split data into train, validation and test sets"
   ]
  },
  {
   "cell_type": "markdown",
   "metadata": {},
   "source": [
    "Training Dataset:\n",
    "The sample of data used to fit the model.\n",
    "\n",
    "Validation Dataset:\n",
    "The sample of data used to provide an unbiased evaluation of a model fit on the training dataset while tuning model hyperparameters. The evaluation becomes more biased as skill on the validation dataset is incorporated into the model configuration.\n",
    "\n",
    "Test Dataset:\n",
    "The sample of data used to provide an unbiased evaluation of a final model fit on the training dataset."
   ]
  },
  {
   "cell_type": "code",
   "execution_count": 99,
   "metadata": {},
   "outputs": [],
   "source": [
    "X_train, X_test, Y_train, Y_test = train_test_split(X, Y, test_size=0.25,\n",
    "                                                    random_state=42)\n",
    "\n",
    "X_train, X_validation, Y_train, Y_validation = train_test_split(X_train, Y_train, test_size=0.25,\n",
    "                                                    random_state=42)\n",
    "\n"
   ]
  },
  {
   "cell_type": "code",
   "execution_count": 102,
   "metadata": {},
   "outputs": [
    {
     "name": "stdout",
     "output_type": "stream",
     "text": [
      "Train: 29942\n",
      "Validation: 9991\n",
      "Test: 13309\n",
      "\n"
     ]
    }
   ],
   "source": [
    "X_train = [item for sublist in X_train for item in sublist]\n",
    "Y_train = [item for sublist in Y_train for item in sublist]\n",
    "\n",
    "X_validation = [item for sublist in X_validation for item in sublist]\n",
    "Y_validation = [item for sublist in Y_validation for item in sublist]\n",
    "\n",
    "X_test = [item for sublist in X_test for item in sublist]\n",
    "Y_test = [item for sublist in Y_test for item in sublist]\n",
    "\n",
    "print(\"Train: {train_size}\\nValidation: {validation_size}\\nTest: {test_size}\\n\".format(train_size=len(X_train), validation_size=len(X_validation), test_size=len(X_test)))"
   ]
  },
  {
   "cell_type": "code",
   "execution_count": 108,
   "metadata": {},
   "outputs": [],
   "source": [
    "# tokenizer\n",
    "tokenizer = Tokenizer(num_words=max_words)  \n",
    "\n",
    "# Updates internal vocabulary based on a list of texts. \n",
    "# This method creates the vocabulary index based on word frequency. \n",
    "tokenizer.fit_on_texts(X_train)\n",
    "\n",
    "# Transforms each row from texts to a sequence of integers. \n",
    "# So it basically takes each word in the text and replaces it \n",
    "X_train = tokenizer.texts_to_sequences(X_train)\n",
    "X_validation = tokenizer.texts_to_sequences(X_validation)\n",
    "X_test = tokenizer.texts_to_sequences(X_test)\n",
    "\n",
    "\n",
    "# Pad sequences\n",
    "X_train = pad_sequences(X_train, maxlen=max_sequence_length, dtype='int32', value=0)\n",
    "X_validation = pad_sequences(X_validation, maxlen=max_sequence_length, dtype='int32', value=0)\n",
    "X_test = pad_sequences(X_test, maxlen=max_sequence_length, dtype='int32', value=0)\n",
    "\n",
    "word_index = tokenizer.word_index\n",
    "\n",
    "X_train = np.array(X_train)\n",
    "Y_train = np.array(Y_train)\n",
    "X_validation = np.array(X_validation)\n",
    "Y_validation = np.array(Y_validation)\n",
    "X_test = np.array(X_test)\n",
    "Y_test = np.array(Y_test)\n"
   ]
  },
  {
   "cell_type": "code",
   "execution_count": 110,
   "metadata": {},
   "outputs": [
    {
     "data": {
      "text/plain": [
       "29942"
      ]
     },
     "execution_count": 110,
     "metadata": {},
     "output_type": "execute_result"
    }
   ],
   "source": [
    "len(X_train)"
   ]
  },
  {
   "cell_type": "markdown",
   "metadata": {},
   "source": [
    "# LSTM Model"
   ]
  },
  {
   "cell_type": "code",
   "execution_count": 74,
   "metadata": {},
   "outputs": [],
   "source": [
    "from tensorflow.keras.layers import *\n",
    "from tensorflow.keras.models import Sequential\n",
    "from tensorflow.keras.optimizers import RMSprop\n",
    "from tensorflow.keras.regularizers import l2\n",
    "\n",
    "l2_reg = l2(0.001)\n",
    "\n",
    "def model_fn():\n",
    "    model = Sequential()\n",
    "\n",
    "    model.add(Embedding(max_words, embedding_size, input_length=max_sequence_length, embeddings_regularizer=l2_reg))\n",
    "    \n",
    "    model.add(SpatialDropout1D(0.5))\n",
    "    \n",
    "    model.add(LSTM(32, dropout=0.2, recurrent_dropout=0.2, kernel_regularizer=l2_reg, recurrent_regularizer=l2_reg, bias_regularizer=l2_reg))\n",
    "    \n",
    "    model.add(Dropout(0.2))\n",
    "    \n",
    "    model.add(Dense(1024, activation='relu'))\n",
    "    \n",
    "    model.add(Dropout(0.2))\n",
    "    \n",
    "    model.add(Dense(512, activation='relu'))\n",
    "\n",
    "    model.add(Dense(1, activation='sigmoid'))\n",
    "    optimizer = RMSprop(lr=0.0001, rho=0.9, epsilon=1e-08, decay=0.0)\n",
    "    \n",
    "    model.compile(loss='binary_crossentropy',\n",
    "                  optimizer=optimizer,\n",
    "                  metrics=['accuracy'])\n",
    "\n",
    "    print(model.summary())\n",
    "\n",
    "    return model"
   ]
  },
  {
   "cell_type": "markdown",
   "metadata": {},
   "source": [
    "# Training"
   ]
  },
  {
   "cell_type": "code",
   "execution_count": 75,
   "metadata": {},
   "outputs": [
    {
     "name": "stdout",
     "output_type": "stream",
     "text": [
      "Model: \"sequential_5\"\n",
      "_________________________________________________________________\n",
      "Layer (type)                 Output Shape              Param #   \n",
      "=================================================================\n",
      "embedding_5 (Embedding)      (None, 40, 40)            160000    \n",
      "_________________________________________________________________\n",
      "spatial_dropout1d_5 (Spatial (None, 40, 40)            0         \n",
      "_________________________________________________________________\n",
      "lstm_5 (LSTM)                (None, 32)                9344      \n",
      "_________________________________________________________________\n",
      "dropout_6 (Dropout)          (None, 32)                0         \n",
      "_________________________________________________________________\n",
      "dense_11 (Dense)             (None, 1024)              33792     \n",
      "_________________________________________________________________\n",
      "dropout_7 (Dropout)          (None, 1024)              0         \n",
      "_________________________________________________________________\n",
      "dense_12 (Dense)             (None, 512)               524800    \n",
      "_________________________________________________________________\n",
      "dense_13 (Dense)             (None, 1)                 513       \n",
      "=================================================================\n",
      "Total params: 728,449\n",
      "Trainable params: 728,449\n",
      "Non-trainable params: 0\n",
      "_________________________________________________________________\n",
      "None\n",
      "Train on 29942 samples, validate on 9991 samples\n",
      "Epoch 1/10\n"
     ]
    },
    {
     "name": "stderr",
     "output_type": "stream",
     "text": [
      "/opt/anaconda3/lib/python3.7/site-packages/tensorflow_core/python/framework/indexed_slices.py:424: UserWarning: Converting sparse IndexedSlices to a dense Tensor of unknown shape. This may consume a large amount of memory.\n",
      "  \"Converting sparse IndexedSlices to a dense Tensor of unknown shape. \"\n"
     ]
    },
    {
     "name": "stdout",
     "output_type": "stream",
     "text": [
      "29942/29942 [==============================] - 9s 295us/sample - loss: 0.8449 - accuracy: 0.6077 - val_loss: 0.7505 - val_accuracy: 0.6943\n",
      "Epoch 2/10\n",
      "29942/29942 [==============================] - 7s 241us/sample - loss: 0.7068 - accuracy: 0.7132 - val_loss: 0.6261 - val_accuracy: 0.7652\n",
      "Epoch 3/10\n",
      "29942/29942 [==============================] - 7s 240us/sample - loss: 0.5873 - accuracy: 0.7794 - val_loss: 0.5514 - val_accuracy: 0.7996\n",
      "Epoch 4/10\n",
      "29942/29942 [==============================] - 7s 241us/sample - loss: 0.5156 - accuracy: 0.8161 - val_loss: 0.5289 - val_accuracy: 0.8062\n",
      "Epoch 5/10\n",
      "29942/29942 [==============================] - 7s 242us/sample - loss: 0.4714 - accuracy: 0.8326 - val_loss: 0.5234 - val_accuracy: 0.8051\n",
      "Epoch 6/10\n",
      "29942/29942 [==============================] - 7s 242us/sample - loss: 0.4414 - accuracy: 0.8469 - val_loss: 0.5180 - val_accuracy: 0.8066\n",
      "Epoch 7/10\n",
      "29942/29942 [==============================] - 7s 243us/sample - loss: 0.4203 - accuracy: 0.8560 - val_loss: 0.5158 - val_accuracy: 0.8071\n",
      "Epoch 8/10\n",
      "29942/29942 [==============================] - 7s 241us/sample - loss: 0.4025 - accuracy: 0.8652 - val_loss: 0.5258 - val_accuracy: 0.8033\n",
      "Epoch 9/10\n",
      "29942/29942 [==============================] - 7s 242us/sample - loss: 0.3916 - accuracy: 0.8682 - val_loss: 0.5306 - val_accuracy: 0.8037\n",
      "Epoch 10/10\n",
      "29942/29942 [==============================] - 7s 244us/sample - loss: 0.3812 - accuracy: 0.8739 - val_loss: 0.5367 - val_accuracy: 0.8038\n"
     ]
    }
   ],
   "source": [
    "import os\n",
    "import numpy as np\n",
    "import pickle\n",
    "\n",
    "# epochs\n",
    "epochs = 10\n",
    "\n",
    "# number of samples to use for each gradient update\n",
    "batch_size = 128\n",
    "\n",
    "# saving tokenizer\n",
    "with open(tokenizer_file, 'wb') as handle:\n",
    "    pickle.dump(tokenizer, handle, protocol=pickle.HIGHEST_PROTOCOL)\n",
    "\n",
    "model = model_fn()\n",
    "\n",
    "# loadin saved model\n",
    "if os.path.exists(model_file):\n",
    "    model.load_weights(model_file)\n",
    "\n",
    "history = model.fit(X_train, Y_train,\n",
    "          validation_data=(X_validation, Y_validation),\n",
    "          epochs=epochs,\n",
    "          batch_size=batch_size,\n",
    "          shuffle=True,\n",
    "          verbose=1)\n",
    "\n",
    "# saving model\n",
    "model.save_weights(model_file)"
   ]
  },
  {
   "cell_type": "markdown",
   "metadata": {},
   "source": [
    "# Show loss and accuracy"
   ]
  },
  {
   "cell_type": "code",
   "execution_count": 76,
   "metadata": {},
   "outputs": [
    {
     "data": {
      "image/png": "[encoded data removed]",
      "text/plain": [
       "<Figure size 432x288 with 1 Axes>"
      ]
     },
     "metadata": {
      "needs_background": "light"
     },
     "output_type": "display_data"
    }
   ],
   "source": [
    "plt.title('Loss')\n",
    "plt.plot(history.history['loss'], label='train')\n",
    "plt.plot(history.history['val_loss'], label='validation')\n",
    "plt.legend()\n",
    "plt.show()"
   ]
  },
  {
   "cell_type": "code",
   "execution_count": 77,
   "metadata": {},
   "outputs": [
    {
     "data": {
      "image/png": "[encoded data removed]",
      "text/plain": [
       "<Figure size 432x288 with 1 Axes>"
      ]
     },
     "metadata": {
      "needs_background": "light"
     },
     "output_type": "display_data"
    }
   ],
   "source": [
    "plt.title('Accuracy')\n",
    "plt.plot(history.history['accuracy'], label='train')\n",
    "plt.plot(history.history['val_accuracy'], label='validation')\n",
    "plt.legend()\n",
    "plt.show()"
   ]
  },
  {
   "cell_type": "code",
   "execution_count": 78,
   "metadata": {},
   "outputs": [
    {
     "name": "stdout",
     "output_type": "stream",
     "text": [
      "Acc: 78.20%\n"
     ]
    }
   ],
   "source": [
    "# evaluate model\n",
    "scores = model.evaluate(X_test, Y_test, verbose=0, batch_size=batch_size)\n",
    "print(\"Acc: %.2f%%\" % (scores[1] * 100))"
   ]
  },
  {
   "cell_type": "markdown",
   "metadata": {},
   "source": [
    "# create submission"
   ]
  },
  {
   "cell_type": "code",
   "execution_count": 46,
   "metadata": {},
   "outputs": [
    {
     "name": "stdout",
     "output_type": "stream",
     "text": [
      "Submission file created!\n"
     ]
    }
   ],
   "source": [
    "test = pd.read_csv('test.csv')\n",
    "\n",
    "# Clear text\n",
    "test['text'] = test['text'].apply(lambda x: clean_str(x))\n",
    "\n",
    "# Remove stop words\n",
    "test['text'] = test['text'].apply(lambda x: \" \".join(remove_stopwords(x.split(\" \"))))\n",
    "\n",
    "# Get text\n",
    "test_X = list(test[\"text\"])\n",
    "\n",
    "# Convert text to sequences\n",
    "sequences = tokenizer.texts_to_sequences(test_X)\n",
    "\n",
    "# Pad sequences\n",
    "sequences = pad_sequences(sequences,\n",
    "                             maxlen=max_sequence_length,\n",
    "                             dtype='int32',\n",
    "                             value=0)\n",
    "\n",
    "# Predict sequences\n",
    "predicted = model.predict(sequences)\n",
    "\n",
    "binary_predicted = np.array(predicted) >= 0.5\n",
    "targets = binary_predicted.astype(int).reshape((len(binary_predicted)))\n",
    "my_submission = pd.DataFrame({'id': test.id, 'target': targets})\n",
    "my_submission.to_csv('submission.csv', index=False)\n",
    "\n",
    "print(\"Submission file created!\")"
   ]
  },
  {
   "cell_type": "code",
   "execution_count": null,
   "metadata": {},
   "outputs": [],
   "source": []
  }
 ],
 "metadata": {
  "kernelspec": {
   "display_name": "Python 3",
   "language": "python",
   "name": "python3"
  },
  "language_info": {
   "codemirror_mode": {
    "name": "ipython",
    "version": 3
   },
   "file_extension": ".py",
   "mimetype": "text/x-python",
   "name": "python",
   "nbconvert_exporter": "python",
   "pygments_lexer": "ipython3",
   "version": "3.7.4"
  }
 },
 "nbformat": 4,
 "nbformat_minor": 4
}
